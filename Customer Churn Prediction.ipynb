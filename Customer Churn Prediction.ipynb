{
  "cells": [
    {
      "cell_type": "code",
      "execution_count": 86,
      "metadata": {
        "id": "T-z0tAMLX4iD"
      },
      "outputs": [],
      "source": [
        "import pandas as pd\n",
        "import matplotlib.pyplot as plt\n",
        "import seaborn as sns\n",
        "import numpy as np"
      ]
    },
    {
      "cell_type": "code",
      "source": [
        "from google.colab import drive\n",
        "drive.mount('/content/drive')"
      ],
      "metadata": {
        "id": "rQBphHDenkp-"
      },
      "execution_count": null,
      "outputs": []
    },
    {
      "cell_type": "code",
      "execution_count": null,
      "metadata": {
        "id": "078Q9gBaYgIv"
      },
      "outputs": [],
      "source": [
        "# Load the dataset\n",
        "url = '/content/drive/MyDrive/ML projects/Customer Churn Prediction/WA_Fn-UseC_-Telco-Customer-Churn.csv'  # Replace with the actual URL or file path\n",
        "data = pd.read_csv(url)"
      ]
    },
    {
      "cell_type": "code",
      "execution_count": null,
      "metadata": {
        "id": "irEAQEhEYmUL"
      },
      "outputs": [],
      "source": [
        "# 1. Check the first few rows of the dataset to get an overview\n",
        "data.head()"
      ]
    },
    {
      "cell_type": "code",
      "execution_count": null,
      "metadata": {
        "id": "aLYLCEpGYocZ"
      },
      "outputs": [],
      "source": [
        "# 2. Check the dimensions of the dataset (rows, columns)\n",
        "print(f\"Number of Rows: {data.shape[0]}\")\n",
        "print(f\"Number of Columns: {data.shape[1]}\")"
      ]
    },
    {
      "cell_type": "code",
      "execution_count": null,
      "metadata": {
        "id": "9catCXmRYroo"
      },
      "outputs": [],
      "source": [
        "# 3. Check data types and missing values\n",
        "print(data.info())"
      ]
    },
    {
      "cell_type": "code",
      "execution_count": null,
      "metadata": {
        "id": "UDEEkmahYtTY"
      },
      "outputs": [],
      "source": [
        "# 4. Summary statistics for numerical columns\n",
        "print(data.describe())"
      ]
    },
    {
      "cell_type": "code",
      "execution_count": null,
      "metadata": {
        "id": "uifQmUH2Yy25"
      },
      "outputs": [],
      "source": [
        "# 5. Check for unique values in categorical columns\n",
        "categorical_cols = data.select_dtypes(include=['object']).columns\n",
        "for col in categorical_cols:\n",
        "    unique_values = data[col].unique()\n",
        "    print(f\"Unique values in {col}: {unique_values}\")"
      ]
    },
    {
      "cell_type": "code",
      "execution_count": null,
      "metadata": {
        "id": "VZMYfrhNY2hc"
      },
      "outputs": [],
      "source": [
        "# 6. Check for missing values\n",
        "missing_values = data.isnull().sum()\n",
        "print(\"Missing Values:\\n\", missing_values)"
      ]
    },
    {
      "cell_type": "code",
      "execution_count": null,
      "metadata": {
        "id": "QyVBOhG5Y5MY"
      },
      "outputs": [],
      "source": [
        "# 7. Check the distribution of the target variable (Churn)\n",
        "target_distribution = data['Churn'].value_counts(normalize=True)\n",
        "print(\"Distribution of Churn:\\n\", target_distribution)"
      ]
    },
    {
      "cell_type": "markdown",
      "metadata": {
        "id": "3ad7aWVCZouU"
      },
      "source": [
        "#Data Cleaning:\n"
      ]
    },
    {
      "cell_type": "code",
      "execution_count": null,
      "metadata": {
        "id": "o3zdR8e0Y6th"
      },
      "outputs": [],
      "source": [
        "# 8. Handle Missing Values\n",
        "# Check for missing values again\n",
        "missing_values = data.isnull().sum()\n",
        "print(\"Missing Values:\\n\", missing_values)"
      ]
    },
    {
      "cell_type": "code",
      "execution_count": null,
      "metadata": {
        "id": "coCHF5K8ZMWe"
      },
      "outputs": [],
      "source": [
        "# 9. Remove Unnecessary Columns\n",
        "# If there are any columns that are not relevant for analysis or modeling, you can remove them. For example, 'customerID' may not be needed for modeling.\n",
        "data = data.drop(['customerID'], axis=1)"
      ]
    },
    {
      "cell_type": "code",
      "execution_count": null,
      "metadata": {
        "id": "gsPbH2tfhpgw"
      },
      "outputs": [],
      "source": [
        "# Convert 'TotalCharges' column to numeric\n",
        "data['TotalCharges'] = pd.to_numeric(data['TotalCharges'], errors='coerce')\n"
      ]
    },
    {
      "cell_type": "code",
      "execution_count": null,
      "metadata": {
        "id": "u1fqBSlEhwmc"
      },
      "outputs": [],
      "source": [
        "# Handle missing values in 'TotalCharges' (replace with mean, median, or any other strategy)\n",
        "data['TotalCharges'].fillna(data['TotalCharges'].median(), inplace=True)\n"
      ]
    },
    {
      "cell_type": "code",
      "execution_count": null,
      "metadata": {
        "id": "E4Ke_kjEZPdf"
      },
      "outputs": [],
      "source": [
        "# 10. Encode Categorical Variables\n",
        "# Encode categorical variables using one-hot encoding or label encoding\n",
        "from sklearn.preprocessing import LabelEncoder"
      ]
    },
    {
      "cell_type": "code",
      "execution_count": null,
      "metadata": {
        "id": "Asy34PMqhyUV"
      },
      "outputs": [],
      "source": [
        "from sklearn.preprocessing import StandardScaler\n",
        "\n",
        "scaler = StandardScaler()\n",
        "numerical_cols = data.select_dtypes(include=['int64', 'float64']).columns\n",
        "data[numerical_cols] = scaler.fit_transform(data[numerical_cols])\n"
      ]
    },
    {
      "cell_type": "code",
      "execution_count": null,
      "metadata": {
        "id": "EwJ6HgnEZRRz"
      },
      "outputs": [],
      "source": [
        "label_encoder = LabelEncoder()\n",
        "categorical_cols = data.select_dtypes(include=['object']).columns\n",
        "\n",
        "for col in categorical_cols:\n",
        "    data[col] = label_encoder.fit_transform(data[col])"
      ]
    },
    {
      "cell_type": "code",
      "execution_count": null,
      "metadata": {
        "id": "MMr5DoPcZTTh"
      },
      "outputs": [],
      "source": [
        "# Now, the categorical variables are encoded numerically.\n",
        "\n",
        "# Let's recheck the data after cleaning\n",
        "data.head()\n",
        "data.info()"
      ]
    },
    {
      "cell_type": "markdown",
      "metadata": {
        "id": "0km-ivAhZyuR"
      },
      "source": [
        "#Data Exploration(EDA):"
      ]
    },
    {
      "cell_type": "markdown",
      "metadata": {
        "id": "KowZsYI7aDFL"
      },
      "source": [
        "###Univariate Analysis"
      ]
    },
    {
      "cell_type": "code",
      "execution_count": null,
      "metadata": {
        "id": "C-uv3Ye2ZV36"
      },
      "outputs": [],
      "source": [
        "# Plot histograms for numerical columns\n",
        "numerical_cols = data.select_dtypes(include=['int64', 'float64']).columns\n",
        "for col in numerical_cols:\n",
        "    plt.figure(figsize=(8, 5))\n",
        "    sns.histplot(data[col], bins=20, kde=True)\n",
        "    plt.title(f'Distribution of {col}')\n",
        "    plt.xlabel(col)\n",
        "    plt.ylabel('Frequency')\n",
        "    plt.show()"
      ]
    },
    {
      "cell_type": "code",
      "execution_count": null,
      "metadata": {
        "id": "y0kCceStZ4Lp"
      },
      "outputs": [],
      "source": [
        "# Plot bar charts for categorical columns\n",
        "for col in categorical_cols:\n",
        "    plt.figure(figsize=(8, 5))\n",
        "    sns.countplot(data[col])\n",
        "    plt.title(f'Count of {col}')\n",
        "    plt.xlabel(col)\n",
        "    plt.ylabel('Count')\n",
        "    plt.show()"
      ]
    },
    {
      "cell_type": "markdown",
      "metadata": {
        "id": "Z7_XkAOZZ_nx"
      },
      "source": [
        "###Bivariate Analysis"
      ]
    },
    {
      "cell_type": "code",
      "execution_count": null,
      "metadata": {
        "id": "VbAO_KWJaI8L"
      },
      "outputs": [],
      "source": [
        "# Correlation matrix for numerical columns\n",
        "correlation_matrix = data[numerical_cols].corr()\n",
        "plt.figure(figsize=(10, 6))\n",
        "sns.heatmap(correlation_matrix, annot=True, cmap='coolwarm', fmt=\".2f\")\n",
        "plt.title(\"Correlation Matrix\")\n",
        "plt.show()\n"
      ]
    },
    {
      "cell_type": "markdown",
      "metadata": {
        "id": "P5PilVZMaUSU"
      },
      "source": [
        "###Churn Analysis"
      ]
    },
    {
      "cell_type": "code",
      "execution_count": null,
      "metadata": {
        "id": "FksiBCpGaRk7"
      },
      "outputs": [],
      "source": [
        "# Churn vs. other variables\n",
        "plt.figure(figsize=(8, 5))\n",
        "sns.countplot(x='Churn', data=data)\n",
        "plt.title(\"Churn Distribution\")\n",
        "plt.xlabel(\"Churn\")\n",
        "plt.ylabel(\"Count\")\n",
        "plt.show()"
      ]
    },
    {
      "cell_type": "code",
      "execution_count": null,
      "metadata": {
        "id": "RPoyh3lQaYU6"
      },
      "outputs": [],
      "source": [
        "# Churn vs. Numeric variables\n",
        "for col in numerical_cols:\n",
        "    plt.figure(figsize=(8, 5))\n",
        "    sns.boxplot(x='Churn', y=col, data=data)\n",
        "    plt.title(f\"{col} vs. Churn\")\n",
        "    plt.xlabel(\"Churn\")\n",
        "    plt.ylabel(col)\n",
        "    plt.show()"
      ]
    },
    {
      "cell_type": "code",
      "execution_count": null,
      "metadata": {
        "id": "O3VooV4BaZvz"
      },
      "outputs": [],
      "source": [
        "# Churn vs. Categorical variables\n",
        "for col in categorical_cols:\n",
        "    plt.figure(figsize=(8, 5))\n",
        "    sns.countplot(x=col, hue='Churn', data=data)\n",
        "    plt.title(f\"{col} vs. Churn\")\n",
        "    plt.xlabel(col)\n",
        "    plt.ylabel(\"Count\")\n",
        "    plt.legend(title=\"Churn\", loc=\"upper right\")\n",
        "    plt.show()"
      ]
    },
    {
      "cell_type": "markdown",
      "metadata": {
        "id": "ZxhFGVznbP_U"
      },
      "source": [
        "#Feature Engineering:"
      ]
    },
    {
      "cell_type": "code",
      "execution_count": null,
      "metadata": {
        "id": "Pa1E9cVgabQ9"
      },
      "outputs": [],
      "source": [
        "#12. Create New Features\n",
        "#create a feature 'MonthlyChargesPerTenure' to represent the average monthly charge per tenure.\n",
        "data['MonthlyChargesPerTenure'] = data['MonthlyCharges'] / data['tenure']"
      ]
    },
    {
      "cell_type": "code",
      "execution_count": null,
      "metadata": {
        "id": "ri2Ix5sBbZMo"
      },
      "outputs": [],
      "source": [
        "# Check the distribution of the new feature\n",
        "plt.figure(figsize=(8, 5))\n",
        "sns.histplot(data['MonthlyChargesPerTenure'], bins=20, kde=True)\n",
        "plt.title('Distribution of MonthlyChargesPerTenure')\n",
        "plt.xlabel('MonthlyChargesPerTenure')\n",
        "plt.ylabel('Frequency')\n",
        "plt.show()"
      ]
    },
    {
      "cell_type": "code",
      "execution_count": null,
      "metadata": {
        "id": "-up1RMEwbtpm"
      },
      "outputs": [],
      "source": [
        "# 13. Final Dataset\n",
        "data.head()"
      ]
    },
    {
      "cell_type": "markdown",
      "metadata": {
        "id": "hVp1o3gKcgWq"
      },
      "source": [
        "#Data Splitting\n"
      ]
    },
    {
      "cell_type": "code",
      "execution_count": null,
      "metadata": {
        "id": "5jyFQBBscIPC"
      },
      "outputs": [],
      "source": [
        "from sklearn.model_selection import train_test_split"
      ]
    },
    {
      "cell_type": "code",
      "execution_count": null,
      "metadata": {
        "id": "PL4tVs4zcbyZ"
      },
      "outputs": [],
      "source": [
        "# 14. Define features (X) and the target variable (y)\n",
        "X = data.drop(['Churn'], axis=1)\n",
        "y = data['Churn']\n"
      ]
    },
    {
      "cell_type": "code",
      "execution_count": null,
      "metadata": {
        "id": "c7c2S_StceRO"
      },
      "outputs": [],
      "source": [
        "# Split the dataset into training and testing sets (typically 80% training and 20% testing)\n",
        "X_train, X_test, y_train, y_test = train_test_split(X, y, test_size=0.2, random_state=42)"
      ]
    },
    {
      "cell_type": "code",
      "execution_count": null,
      "metadata": {
        "id": "gzNnD7AyclAS"
      },
      "outputs": [],
      "source": [
        "# Print the shapes of the split datasets\n",
        "print(\"Training Data - Features:\", X_train.shape, \" Target:\", y_train.shape)\n",
        "print(\"Testing Data - Features:\", X_test.shape, \" Target:\", y_test.shape)"
      ]
    },
    {
      "cell_type": "code",
      "execution_count": null,
      "metadata": {
        "id": "pUa2GitgeVxN"
      },
      "outputs": [],
      "source": [
        "X_train['MonthlyChargesPerTenure'] = X_train['MonthlyChargesPerTenure'].replace([np.inf, -np.inf], np.nan)"
      ]
    },
    {
      "cell_type": "code",
      "execution_count": null,
      "metadata": {
        "id": "BEuv3tsOejV4"
      },
      "outputs": [],
      "source": [
        "# Remove rows with NaN values\n",
        "X_train = X_train.dropna()"
      ]
    },
    {
      "cell_type": "code",
      "execution_count": null,
      "metadata": {
        "id": "X8lZhLhEd3tl"
      },
      "outputs": [],
      "source": [
        "X_train.head(10)"
      ]
    },
    {
      "cell_type": "code",
      "execution_count": null,
      "metadata": {
        "id": "deoT5ih4gAsa"
      },
      "outputs": [],
      "source": [
        "y_train.head(10)"
      ]
    },
    {
      "cell_type": "markdown",
      "metadata": {
        "id": "vIhh5Y34cvuV"
      },
      "source": [
        "#Model Selection"
      ]
    },
    {
      "cell_type": "markdown",
      "metadata": {
        "id": "6NOhPzCxiLLy"
      },
      "source": [
        "##RandomForestClassifier"
      ]
    },
    {
      "cell_type": "code",
      "execution_count": null,
      "metadata": {
        "id": "_3P-4z_fcnS4"
      },
      "outputs": [],
      "source": [
        "from sklearn.ensemble import RandomForestClassifier\n",
        "from sklearn.metrics import accuracy_score, classification_report, confusion_matrix"
      ]
    },
    {
      "cell_type": "code",
      "execution_count": null,
      "metadata": {
        "id": "OerVJQw4cycy"
      },
      "outputs": [],
      "source": [
        "# Choose a machine learning model (e.g., RandomForestClassifier)\n",
        "model = RandomForestClassifier(n_estimators=100, random_state=42)"
      ]
    },
    {
      "cell_type": "markdown",
      "metadata": {
        "id": "QDcJFVyxc3OU"
      },
      "source": [
        "#### 16. Model Training"
      ]
    },
    {
      "cell_type": "code",
      "execution_count": null,
      "metadata": {
        "id": "wrpo4mXNc0om"
      },
      "outputs": [],
      "source": [
        "# Train the model on the training data\n",
        "model.fit(X_train, y_train)"
      ]
    },
    {
      "cell_type": "code",
      "execution_count": null,
      "metadata": {
        "id": "xOcqiVX5h_Pa"
      },
      "outputs": [],
      "source": [
        "# 17. Model Evaluation\n",
        "\n",
        "# Make predictions on the testing data\n",
        "y_pred = model.predict(X_test)"
      ]
    },
    {
      "cell_type": "code",
      "execution_count": null,
      "metadata": {
        "id": "MnGEMpHEiBoH"
      },
      "outputs": [],
      "source": [
        "# Evaluate the model's performance\n",
        "accuracy = accuracy_score(y_test, y_pred)\n",
        "conf_matrix = confusion_matrix(y_test, y_pred)\n",
        "classification_rep = classification_report(y_test, y_pred)"
      ]
    },
    {
      "cell_type": "code",
      "execution_count": null,
      "metadata": {
        "id": "msecUqRNiDSv"
      },
      "outputs": [],
      "source": [
        "# Print the evaluation results\n",
        "print(f'Accuracy: {accuracy:.2f}')"
      ]
    },
    {
      "cell_type": "code",
      "execution_count": null,
      "metadata": {
        "id": "WEGSND48iDcq"
      },
      "outputs": [],
      "source": [
        "print(f'Confusion Matrix:\\n{conf_matrix}')"
      ]
    },
    {
      "cell_type": "code",
      "execution_count": null,
      "metadata": {
        "id": "MrqSVQByiDiT"
      },
      "outputs": [],
      "source": [
        "print(f'Classification Report:\\n{classification_rep}')"
      ]
    },
    {
      "cell_type": "markdown",
      "metadata": {
        "id": "gVCtgCjHiOLQ"
      },
      "source": [
        "##LogisticRegression"
      ]
    },
    {
      "cell_type": "code",
      "execution_count": null,
      "metadata": {
        "id": "67STmvpKc5eu"
      },
      "outputs": [],
      "source": [
        "from sklearn.linear_model import LogisticRegression\n",
        "# 15. Model Selection - Choose a different machine learning algorithm\n",
        "model = LogisticRegression(random_state=42, max_iter=1000)  # Logistic Regression"
      ]
    },
    {
      "cell_type": "code",
      "execution_count": null,
      "metadata": {
        "id": "CwXk7vx6dzB2"
      },
      "outputs": [],
      "source": [
        "# 16. Model Training\n",
        "model.fit(X_train, y_train)"
      ]
    },
    {
      "cell_type": "code",
      "execution_count": null,
      "metadata": {
        "id": "cUJStEmfd0Rl"
      },
      "outputs": [],
      "source": [
        "# 17. Model Evaluation\n",
        "y_pred = model.predict(X_test)"
      ]
    },
    {
      "cell_type": "code",
      "execution_count": null,
      "metadata": {
        "id": "_wOm_tPliUH0"
      },
      "outputs": [],
      "source": [
        "# Evaluate the Logistic Regression model\n",
        "accuracy = accuracy_score(y_test, y_pred)\n",
        "conf_matrix = confusion_matrix(y_test, y_pred)\n",
        "classification_rep = classification_report(y_test, y_pred)"
      ]
    },
    {
      "cell_type": "code",
      "execution_count": null,
      "metadata": {
        "id": "IZBnPIrHiVJ7"
      },
      "outputs": [],
      "source": [
        "# Print the evaluation results for the Logistic Regression model\n",
        "print(f'Accuracy (Logistic Regression): {accuracy:.2f}')"
      ]
    },
    {
      "cell_type": "code",
      "execution_count": null,
      "metadata": {
        "id": "fEo9lYvXiWfr"
      },
      "outputs": [],
      "source": [
        "print(f'Confusion Matrix (Logistic Regression):\\n{conf_matrix}')"
      ]
    },
    {
      "cell_type": "code",
      "execution_count": null,
      "metadata": {
        "id": "iwUFOo1ciXy9"
      },
      "outputs": [],
      "source": [
        "print(f'Classification Report (Logistic Regression):\\n{classification_rep}')"
      ]
    },
    {
      "cell_type": "markdown",
      "metadata": {
        "id": "Ytr3_5lKifov"
      },
      "source": [
        "##GradientBoostingClassifier"
      ]
    },
    {
      "cell_type": "code",
      "execution_count": null,
      "metadata": {
        "id": "BcdczvjFiZJt"
      },
      "outputs": [],
      "source": [
        "from sklearn.ensemble import GradientBoostingClassifier"
      ]
    },
    {
      "cell_type": "code",
      "execution_count": null,
      "metadata": {
        "id": "8ZbhfRUSihsH"
      },
      "outputs": [],
      "source": [
        "model = GradientBoostingClassifier(n_estimators=100, random_state=42)"
      ]
    },
    {
      "cell_type": "code",
      "execution_count": null,
      "metadata": {
        "id": "HD78jAQfijDI"
      },
      "outputs": [],
      "source": [
        "# Model Training\n",
        "model.fit(X_train, y_train)\n",
        "\n",
        "# Model Evaluation\n",
        "y_pred = model.predict(X_test)"
      ]
    },
    {
      "cell_type": "code",
      "execution_count": null,
      "metadata": {
        "id": "6p1K7ZlKioFc"
      },
      "outputs": [],
      "source": [
        "# Evaluate the Gradient Boosting Classifier model\n",
        "accuracy = accuracy_score(y_test, y_pred)\n",
        "conf_matrix = confusion_matrix(y_test, y_pred)\n",
        "classification_rep = classification_report(y_test, y_pred)"
      ]
    },
    {
      "cell_type": "code",
      "execution_count": null,
      "metadata": {
        "id": "IBRnD64Tipro"
      },
      "outputs": [],
      "source": [
        "# Print the evaluation results for the Gradient Boosting Classifier model\n",
        "print(f'Accuracy (Gradient Boosting Classifier): {accuracy:.2f}')"
      ]
    },
    {
      "cell_type": "code",
      "execution_count": null,
      "metadata": {
        "id": "JTuL7SKSirIR"
      },
      "outputs": [],
      "source": [
        "print(f'Confusion Matrix (Gradient Boosting Classifier):\\n{conf_matrix}')"
      ]
    },
    {
      "cell_type": "code",
      "execution_count": null,
      "metadata": {
        "id": "Chz_7IZgisZx"
      },
      "outputs": [],
      "source": [
        "print(f'Classification Report (Gradient Boosting Classifier):\\n{classification_rep}')"
      ]
    },
    {
      "cell_type": "markdown",
      "metadata": {
        "id": "Bf2X5hDdjWZC"
      },
      "source": [
        "#Model Evaluation"
      ]
    },
    {
      "cell_type": "code",
      "execution_count": null,
      "metadata": {
        "id": "n7tsrATMiuO9"
      },
      "outputs": [],
      "source": [
        "from sklearn.metrics import accuracy_score, classification_report, confusion_matrix, roc_auc_score, roc_curve\n",
        "import matplotlib.pyplot as plt"
      ]
    },
    {
      "cell_type": "code",
      "execution_count": null,
      "metadata": {
        "id": "jvyzAou7jY3p"
      },
      "outputs": [],
      "source": [
        "# Make predictions on the testing data\n",
        "y_pred = model.predict(X_test)\n",
        "y_prob = model.predict_proba(X_test)[:, 1]  # Probability of class 1 (Churn)"
      ]
    },
    {
      "cell_type": "code",
      "execution_count": null,
      "metadata": {
        "id": "MEf0xQJljbIb"
      },
      "outputs": [],
      "source": [
        "# Calculate and display evaluation metrics\n",
        "accuracy = accuracy_score(y_test, y_pred)\n",
        "roc_auc = roc_auc_score(y_test, y_prob)\n",
        "conf_matrix = confusion_matrix(y_test, y_pred)\n",
        "classification_rep = classification_report(y_test, y_pred)"
      ]
    },
    {
      "cell_type": "code",
      "execution_count": null,
      "metadata": {
        "id": "CQ5oyDXFjd09"
      },
      "outputs": [],
      "source": [
        "print(f'Accuracy: {accuracy:.2f}')\n",
        "print(f'ROC AUC Score: {roc_auc:.2f}')"
      ]
    },
    {
      "cell_type": "code",
      "execution_count": null,
      "metadata": {
        "id": "hjmhKQGnjgyx"
      },
      "outputs": [],
      "source": [
        "\n",
        "print(f'Confusion Matrix:\\n{conf_matrix}')\n",
        "print(f'Classification Report:\\n{classification_rep}')"
      ]
    },
    {
      "cell_type": "code",
      "execution_count": null,
      "metadata": {
        "id": "0Ohs8cmbjhQl"
      },
      "outputs": [],
      "source": [
        "# 19. ROC Curve\n",
        "fpr, tpr, thresholds = roc_curve(y_test, y_prob)\n",
        "plt.figure(figsize=(8, 6))\n",
        "plt.plot(fpr, tpr, label='ROC Curve (area = %0.2f)' % roc_auc)\n",
        "plt.plot([0, 1], [0, 1], 'k--')\n",
        "plt.xlim([0.0, 1.0])\n",
        "plt.ylim([0.0, 1.05])\n",
        "plt.xlabel('False Positive Rate')\n",
        "plt.ylabel('True Positive Rate')\n",
        "plt.title('Receiver Operating Characteristic (ROC) Curve')\n",
        "plt.legend(loc='lower right')\n",
        "plt.show()"
      ]
    },
    {
      "cell_type": "markdown",
      "metadata": {
        "id": "yQPjCciXjxb3"
      },
      "source": [
        "#Hyperparameter Tuning"
      ]
    },
    {
      "cell_type": "code",
      "execution_count": null,
      "metadata": {
        "id": "2ePtY9V8jlZY"
      },
      "outputs": [],
      "source": [
        "from sklearn.model_selection import GridSearchCV"
      ]
    },
    {
      "cell_type": "code",
      "execution_count": null,
      "metadata": {
        "id": "HX3Z5BA3jzvL"
      },
      "outputs": [],
      "source": [
        "# Define a range of hyperparameters to search through\n",
        "param_grid = {\n",
        "    'n_estimators': [100, 200, 300],\n",
        "    'learning_rate': [0.01, 0.1, 0.2],\n",
        "    'max_depth': [3, 4, 5]}"
      ]
    },
    {
      "cell_type": "code",
      "execution_count": null,
      "metadata": {
        "id": "il5uqRCcj1q-"
      },
      "outputs": [],
      "source": [
        "# Create a GridSearchCV object with the Gradient Boosting Classifier and the parameter grid\n",
        "grid_search = GridSearchCV(\n",
        "    estimator=GradientBoostingClassifier(random_state=42),\n",
        "    param_grid=param_grid,\n",
        "    scoring='roc_auc',  # You can choose a different scoring metric if needed\n",
        "    cv=5,  # Number of cross-validation folds\n",
        "    n_jobs=-1  # Use all available CPU cores\n",
        ")\n"
      ]
    },
    {
      "cell_type": "code",
      "execution_count": 70,
      "metadata": {
        "id": "1WMdRIKtj5kY",
        "colab": {
          "base_uri": "https://localhost:8080/",
          "height": 118
        },
        "outputId": "0c37f46a-0118-4516-f07c-9a4e3137567f"
      },
      "outputs": [
        {
          "output_type": "execute_result",
          "data": {
            "text/plain": [
              "GridSearchCV(cv=5, estimator=GradientBoostingClassifier(random_state=42),\n",
              "             n_jobs=-1,\n",
              "             param_grid={'learning_rate': [0.01, 0.1, 0.2],\n",
              "                         'max_depth': [3, 4, 5],\n",
              "                         'n_estimators': [100, 200, 300]},\n",
              "             scoring='roc_auc')"
            ],
            "text/html": [
              "<style>#sk-container-id-3 {color: black;background-color: white;}#sk-container-id-3 pre{padding: 0;}#sk-container-id-3 div.sk-toggleable {background-color: white;}#sk-container-id-3 label.sk-toggleable__label {cursor: pointer;display: block;width: 100%;margin-bottom: 0;padding: 0.3em;box-sizing: border-box;text-align: center;}#sk-container-id-3 label.sk-toggleable__label-arrow:before {content: \"▸\";float: left;margin-right: 0.25em;color: #696969;}#sk-container-id-3 label.sk-toggleable__label-arrow:hover:before {color: black;}#sk-container-id-3 div.sk-estimator:hover label.sk-toggleable__label-arrow:before {color: black;}#sk-container-id-3 div.sk-toggleable__content {max-height: 0;max-width: 0;overflow: hidden;text-align: left;background-color: #f0f8ff;}#sk-container-id-3 div.sk-toggleable__content pre {margin: 0.2em;color: black;border-radius: 0.25em;background-color: #f0f8ff;}#sk-container-id-3 input.sk-toggleable__control:checked~div.sk-toggleable__content {max-height: 200px;max-width: 100%;overflow: auto;}#sk-container-id-3 input.sk-toggleable__control:checked~label.sk-toggleable__label-arrow:before {content: \"▾\";}#sk-container-id-3 div.sk-estimator input.sk-toggleable__control:checked~label.sk-toggleable__label {background-color: #d4ebff;}#sk-container-id-3 div.sk-label input.sk-toggleable__control:checked~label.sk-toggleable__label {background-color: #d4ebff;}#sk-container-id-3 input.sk-hidden--visually {border: 0;clip: rect(1px 1px 1px 1px);clip: rect(1px, 1px, 1px, 1px);height: 1px;margin: -1px;overflow: hidden;padding: 0;position: absolute;width: 1px;}#sk-container-id-3 div.sk-estimator {font-family: monospace;background-color: #f0f8ff;border: 1px dotted black;border-radius: 0.25em;box-sizing: border-box;margin-bottom: 0.5em;}#sk-container-id-3 div.sk-estimator:hover {background-color: #d4ebff;}#sk-container-id-3 div.sk-parallel-item::after {content: \"\";width: 100%;border-bottom: 1px solid gray;flex-grow: 1;}#sk-container-id-3 div.sk-label:hover label.sk-toggleable__label {background-color: #d4ebff;}#sk-container-id-3 div.sk-serial::before {content: \"\";position: absolute;border-left: 1px solid gray;box-sizing: border-box;top: 0;bottom: 0;left: 50%;z-index: 0;}#sk-container-id-3 div.sk-serial {display: flex;flex-direction: column;align-items: center;background-color: white;padding-right: 0.2em;padding-left: 0.2em;position: relative;}#sk-container-id-3 div.sk-item {position: relative;z-index: 1;}#sk-container-id-3 div.sk-parallel {display: flex;align-items: stretch;justify-content: center;background-color: white;position: relative;}#sk-container-id-3 div.sk-item::before, #sk-container-id-3 div.sk-parallel-item::before {content: \"\";position: absolute;border-left: 1px solid gray;box-sizing: border-box;top: 0;bottom: 0;left: 50%;z-index: -1;}#sk-container-id-3 div.sk-parallel-item {display: flex;flex-direction: column;z-index: 1;position: relative;background-color: white;}#sk-container-id-3 div.sk-parallel-item:first-child::after {align-self: flex-end;width: 50%;}#sk-container-id-3 div.sk-parallel-item:last-child::after {align-self: flex-start;width: 50%;}#sk-container-id-3 div.sk-parallel-item:only-child::after {width: 0;}#sk-container-id-3 div.sk-dashed-wrapped {border: 1px dashed gray;margin: 0 0.4em 0.5em 0.4em;box-sizing: border-box;padding-bottom: 0.4em;background-color: white;}#sk-container-id-3 div.sk-label label {font-family: monospace;font-weight: bold;display: inline-block;line-height: 1.2em;}#sk-container-id-3 div.sk-label-container {text-align: center;}#sk-container-id-3 div.sk-container {/* jupyter's `normalize.less` sets `[hidden] { display: none; }` but bootstrap.min.css set `[hidden] { display: none !important; }` so we also need the `!important` here to be able to override the default hidden behavior on the sphinx rendered scikit-learn.org. See: https://github.com/scikit-learn/scikit-learn/issues/21755 */display: inline-block !important;position: relative;}#sk-container-id-3 div.sk-text-repr-fallback {display: none;}</style><div id=\"sk-container-id-3\" class=\"sk-top-container\"><div class=\"sk-text-repr-fallback\"><pre>GridSearchCV(cv=5, estimator=GradientBoostingClassifier(random_state=42),\n",
              "             n_jobs=-1,\n",
              "             param_grid={&#x27;learning_rate&#x27;: [0.01, 0.1, 0.2],\n",
              "                         &#x27;max_depth&#x27;: [3, 4, 5],\n",
              "                         &#x27;n_estimators&#x27;: [100, 200, 300]},\n",
              "             scoring=&#x27;roc_auc&#x27;)</pre><b>In a Jupyter environment, please rerun this cell to show the HTML representation or trust the notebook. <br />On GitHub, the HTML representation is unable to render, please try loading this page with nbviewer.org.</b></div><div class=\"sk-container\" hidden><div class=\"sk-item sk-dashed-wrapped\"><div class=\"sk-label-container\"><div class=\"sk-label sk-toggleable\"><input class=\"sk-toggleable__control sk-hidden--visually\" id=\"sk-estimator-id-3\" type=\"checkbox\" ><label for=\"sk-estimator-id-3\" class=\"sk-toggleable__label sk-toggleable__label-arrow\">GridSearchCV</label><div class=\"sk-toggleable__content\"><pre>GridSearchCV(cv=5, estimator=GradientBoostingClassifier(random_state=42),\n",
              "             n_jobs=-1,\n",
              "             param_grid={&#x27;learning_rate&#x27;: [0.01, 0.1, 0.2],\n",
              "                         &#x27;max_depth&#x27;: [3, 4, 5],\n",
              "                         &#x27;n_estimators&#x27;: [100, 200, 300]},\n",
              "             scoring=&#x27;roc_auc&#x27;)</pre></div></div></div><div class=\"sk-parallel\"><div class=\"sk-parallel-item\"><div class=\"sk-item\"><div class=\"sk-label-container\"><div class=\"sk-label sk-toggleable\"><input class=\"sk-toggleable__control sk-hidden--visually\" id=\"sk-estimator-id-4\" type=\"checkbox\" ><label for=\"sk-estimator-id-4\" class=\"sk-toggleable__label sk-toggleable__label-arrow\">estimator: GradientBoostingClassifier</label><div class=\"sk-toggleable__content\"><pre>GradientBoostingClassifier(random_state=42)</pre></div></div></div><div class=\"sk-serial\"><div class=\"sk-item\"><div class=\"sk-estimator sk-toggleable\"><input class=\"sk-toggleable__control sk-hidden--visually\" id=\"sk-estimator-id-5\" type=\"checkbox\" ><label for=\"sk-estimator-id-5\" class=\"sk-toggleable__label sk-toggleable__label-arrow\">GradientBoostingClassifier</label><div class=\"sk-toggleable__content\"><pre>GradientBoostingClassifier(random_state=42)</pre></div></div></div></div></div></div></div></div></div></div>"
            ]
          },
          "metadata": {},
          "execution_count": 70
        }
      ],
      "source": [
        "# Fit the GridSearchCV object to the training data\n",
        "grid_search.fit(X_train, y_train)"
      ]
    },
    {
      "cell_type": "code",
      "execution_count": 71,
      "metadata": {
        "id": "RBonX--Pj6vs"
      },
      "outputs": [],
      "source": [
        "# Get the best hyperparameters\n",
        "best_params = grid_search.best_params_\n",
        "best_model = grid_search.best_estimator_"
      ]
    },
    {
      "cell_type": "code",
      "execution_count": 72,
      "metadata": {
        "id": "4BSwrHdDj8EZ",
        "colab": {
          "base_uri": "https://localhost:8080/"
        },
        "outputId": "c25ca064-7dbe-4b39-c986-622ffb16a2c0"
      },
      "outputs": [
        {
          "output_type": "stream",
          "name": "stdout",
          "text": [
            "Best Hyperparameters:\n",
            "{'learning_rate': 0.01, 'max_depth': 4, 'n_estimators': 300}\n"
          ]
        }
      ],
      "source": [
        "# Print the best hyperparameters\n",
        "print(\"Best Hyperparameters:\")\n",
        "print(best_params)"
      ]
    },
    {
      "cell_type": "code",
      "execution_count": 73,
      "metadata": {
        "id": "-6HKv9sYndFG"
      },
      "outputs": [],
      "source": [
        "# 21. Model Evaluation with Best Hyperparameters\n",
        "\n",
        "# Make predictions using the best model\n",
        "y_pred = best_model.predict(X_test)\n",
        "y_prob = best_model.predict_proba(X_test)[:, 1]  # Probability of class 1 (Churn)"
      ]
    },
    {
      "cell_type": "code",
      "execution_count": 74,
      "metadata": {
        "id": "jMZpQJA1ndFG"
      },
      "outputs": [],
      "source": [
        "# Calculate and display evaluation metrics for the tuned model\n",
        "roc_auc = roc_auc_score(y_test, y_prob)\n",
        "conf_matrix = confusion_matrix(y_test, y_pred)\n",
        "classification_rep = classification_report(y_test, y_pred)"
      ]
    },
    {
      "cell_type": "code",
      "execution_count": 75,
      "metadata": {
        "id": "OHRDbzVEndFH",
        "colab": {
          "base_uri": "https://localhost:8080/"
        },
        "outputId": "a67d6b3e-270f-4834-eff0-4b4f77f4ce6e"
      },
      "outputs": [
        {
          "output_type": "stream",
          "name": "stdout",
          "text": [
            "ROC AUC Score (Tuned Model): 0.86\n",
            "Confusion Matrix (Tuned Model):\n",
            "[[955  81]\n",
            " [186 187]]\n",
            "Classification Report (Tuned Model):\n",
            "              precision    recall  f1-score   support\n",
            "\n",
            "           0       0.84      0.92      0.88      1036\n",
            "           1       0.70      0.50      0.58       373\n",
            "\n",
            "    accuracy                           0.81      1409\n",
            "   macro avg       0.77      0.71      0.73      1409\n",
            "weighted avg       0.80      0.81      0.80      1409\n",
            "\n"
          ]
        }
      ],
      "source": [
        "print(f'ROC AUC Score (Tuned Model): {roc_auc:.2f}')\n",
        "print(f'Confusion Matrix (Tuned Model):\\n{conf_matrix}')\n",
        "print(f'Classification Report (Tuned Model):\\n{classification_rep}')"
      ]
    },
    {
      "cell_type": "markdown",
      "metadata": {
        "id": "OqxvMvvcndFH"
      },
      "source": [
        "## Final Model Training"
      ]
    },
    {
      "cell_type": "code",
      "execution_count": 76,
      "metadata": {
        "id": "gqqzZp_dndFI"
      },
      "outputs": [],
      "source": [
        "# Train the final model with the best hyperparameters using the entire training dataset\n",
        "final_model = GradientBoostingClassifier(\n",
        "    n_estimators=best_params['n_estimators'],\n",
        "    learning_rate=best_params['learning_rate'],\n",
        "    max_depth=best_params['max_depth'],\n",
        "    random_state=42\n",
        ")"
      ]
    },
    {
      "cell_type": "code",
      "execution_count": 77,
      "metadata": {
        "id": "cWyy5pglndFI",
        "colab": {
          "base_uri": "https://localhost:8080/",
          "height": 92
        },
        "outputId": "313201e0-a443-4db8-b3b9-9a3153e7f90f"
      },
      "outputs": [
        {
          "output_type": "execute_result",
          "data": {
            "text/plain": [
              "GradientBoostingClassifier(learning_rate=0.01, max_depth=4, n_estimators=300,\n",
              "                           random_state=42)"
            ],
            "text/html": [
              "<style>#sk-container-id-4 {color: black;background-color: white;}#sk-container-id-4 pre{padding: 0;}#sk-container-id-4 div.sk-toggleable {background-color: white;}#sk-container-id-4 label.sk-toggleable__label {cursor: pointer;display: block;width: 100%;margin-bottom: 0;padding: 0.3em;box-sizing: border-box;text-align: center;}#sk-container-id-4 label.sk-toggleable__label-arrow:before {content: \"▸\";float: left;margin-right: 0.25em;color: #696969;}#sk-container-id-4 label.sk-toggleable__label-arrow:hover:before {color: black;}#sk-container-id-4 div.sk-estimator:hover label.sk-toggleable__label-arrow:before {color: black;}#sk-container-id-4 div.sk-toggleable__content {max-height: 0;max-width: 0;overflow: hidden;text-align: left;background-color: #f0f8ff;}#sk-container-id-4 div.sk-toggleable__content pre {margin: 0.2em;color: black;border-radius: 0.25em;background-color: #f0f8ff;}#sk-container-id-4 input.sk-toggleable__control:checked~div.sk-toggleable__content {max-height: 200px;max-width: 100%;overflow: auto;}#sk-container-id-4 input.sk-toggleable__control:checked~label.sk-toggleable__label-arrow:before {content: \"▾\";}#sk-container-id-4 div.sk-estimator input.sk-toggleable__control:checked~label.sk-toggleable__label {background-color: #d4ebff;}#sk-container-id-4 div.sk-label input.sk-toggleable__control:checked~label.sk-toggleable__label {background-color: #d4ebff;}#sk-container-id-4 input.sk-hidden--visually {border: 0;clip: rect(1px 1px 1px 1px);clip: rect(1px, 1px, 1px, 1px);height: 1px;margin: -1px;overflow: hidden;padding: 0;position: absolute;width: 1px;}#sk-container-id-4 div.sk-estimator {font-family: monospace;background-color: #f0f8ff;border: 1px dotted black;border-radius: 0.25em;box-sizing: border-box;margin-bottom: 0.5em;}#sk-container-id-4 div.sk-estimator:hover {background-color: #d4ebff;}#sk-container-id-4 div.sk-parallel-item::after {content: \"\";width: 100%;border-bottom: 1px solid gray;flex-grow: 1;}#sk-container-id-4 div.sk-label:hover label.sk-toggleable__label {background-color: #d4ebff;}#sk-container-id-4 div.sk-serial::before {content: \"\";position: absolute;border-left: 1px solid gray;box-sizing: border-box;top: 0;bottom: 0;left: 50%;z-index: 0;}#sk-container-id-4 div.sk-serial {display: flex;flex-direction: column;align-items: center;background-color: white;padding-right: 0.2em;padding-left: 0.2em;position: relative;}#sk-container-id-4 div.sk-item {position: relative;z-index: 1;}#sk-container-id-4 div.sk-parallel {display: flex;align-items: stretch;justify-content: center;background-color: white;position: relative;}#sk-container-id-4 div.sk-item::before, #sk-container-id-4 div.sk-parallel-item::before {content: \"\";position: absolute;border-left: 1px solid gray;box-sizing: border-box;top: 0;bottom: 0;left: 50%;z-index: -1;}#sk-container-id-4 div.sk-parallel-item {display: flex;flex-direction: column;z-index: 1;position: relative;background-color: white;}#sk-container-id-4 div.sk-parallel-item:first-child::after {align-self: flex-end;width: 50%;}#sk-container-id-4 div.sk-parallel-item:last-child::after {align-self: flex-start;width: 50%;}#sk-container-id-4 div.sk-parallel-item:only-child::after {width: 0;}#sk-container-id-4 div.sk-dashed-wrapped {border: 1px dashed gray;margin: 0 0.4em 0.5em 0.4em;box-sizing: border-box;padding-bottom: 0.4em;background-color: white;}#sk-container-id-4 div.sk-label label {font-family: monospace;font-weight: bold;display: inline-block;line-height: 1.2em;}#sk-container-id-4 div.sk-label-container {text-align: center;}#sk-container-id-4 div.sk-container {/* jupyter's `normalize.less` sets `[hidden] { display: none; }` but bootstrap.min.css set `[hidden] { display: none !important; }` so we also need the `!important` here to be able to override the default hidden behavior on the sphinx rendered scikit-learn.org. See: https://github.com/scikit-learn/scikit-learn/issues/21755 */display: inline-block !important;position: relative;}#sk-container-id-4 div.sk-text-repr-fallback {display: none;}</style><div id=\"sk-container-id-4\" class=\"sk-top-container\"><div class=\"sk-text-repr-fallback\"><pre>GradientBoostingClassifier(learning_rate=0.01, max_depth=4, n_estimators=300,\n",
              "                           random_state=42)</pre><b>In a Jupyter environment, please rerun this cell to show the HTML representation or trust the notebook. <br />On GitHub, the HTML representation is unable to render, please try loading this page with nbviewer.org.</b></div><div class=\"sk-container\" hidden><div class=\"sk-item\"><div class=\"sk-estimator sk-toggleable\"><input class=\"sk-toggleable__control sk-hidden--visually\" id=\"sk-estimator-id-6\" type=\"checkbox\" checked><label for=\"sk-estimator-id-6\" class=\"sk-toggleable__label sk-toggleable__label-arrow\">GradientBoostingClassifier</label><div class=\"sk-toggleable__content\"><pre>GradientBoostingClassifier(learning_rate=0.01, max_depth=4, n_estimators=300,\n",
              "                           random_state=42)</pre></div></div></div></div></div>"
            ]
          },
          "metadata": {},
          "execution_count": 77
        }
      ],
      "source": [
        "final_model.fit(X_train, y_train)"
      ]
    },
    {
      "cell_type": "code",
      "execution_count": 78,
      "metadata": {
        "id": "ZY9WgHLmndFI"
      },
      "outputs": [],
      "source": [
        "# 23. Model Evaluation (Final Model)\n",
        "\n",
        "# Make predictions using the final model\n",
        "y_pred = final_model.predict(X_test)\n",
        "y_prob = final_model.predict_proba(X_test)[:, 1]  # Probability of class 1 (Churn)"
      ]
    },
    {
      "cell_type": "code",
      "execution_count": 79,
      "metadata": {
        "id": "w645uAVkndFJ"
      },
      "outputs": [],
      "source": [
        "# Calculate and display evaluation metrics for the final model\n",
        "roc_auc = roc_auc_score(y_test, y_prob)\n",
        "conf_matrix = confusion_matrix(y_test, y_pred)\n",
        "classification_rep = classification_report(y_test, y_pred)"
      ]
    },
    {
      "cell_type": "code",
      "execution_count": 80,
      "metadata": {
        "id": "fds1vnUindFJ",
        "colab": {
          "base_uri": "https://localhost:8080/"
        },
        "outputId": "a49091bd-688b-41cb-9e0d-63c79a487bb3"
      },
      "outputs": [
        {
          "output_type": "stream",
          "name": "stdout",
          "text": [
            "ROC AUC Score (Final Model): 0.86\n",
            "Confusion Matrix (Final Model):\n",
            "[[955  81]\n",
            " [186 187]]\n",
            "Classification Report (Final Model):\n",
            "              precision    recall  f1-score   support\n",
            "\n",
            "           0       0.84      0.92      0.88      1036\n",
            "           1       0.70      0.50      0.58       373\n",
            "\n",
            "    accuracy                           0.81      1409\n",
            "   macro avg       0.77      0.71      0.73      1409\n",
            "weighted avg       0.80      0.81      0.80      1409\n",
            "\n"
          ]
        }
      ],
      "source": [
        "print(f'ROC AUC Score (Final Model): {roc_auc:.2f}')\n",
        "print(f'Confusion Matrix (Final Model):\\n{conf_matrix}')\n",
        "print(f'Classification Report (Final Model):\\n{classification_rep}')\n"
      ]
    },
    {
      "cell_type": "markdown",
      "metadata": {
        "id": "zZU8bgMPndFJ"
      },
      "source": [
        "## Final Evaluation"
      ]
    },
    {
      "cell_type": "code",
      "execution_count": 81,
      "metadata": {
        "id": "p3OC_wk4ndFJ"
      },
      "outputs": [],
      "source": [
        "# 24.1. Feature Importance (for Gradient Boosting models)\n",
        "\n",
        "# Check feature importance for the final model (if applicable)\n",
        "if isinstance(final_model, GradientBoostingClassifier):\n",
        "    feature_importance = final_model.feature_importances_"
      ]
    },
    {
      "cell_type": "code",
      "execution_count": 82,
      "metadata": {
        "id": "C35EBAsgndFJ",
        "colab": {
          "base_uri": "https://localhost:8080/",
          "height": 471
        },
        "outputId": "434fdf8b-996c-4a29-f9a1-c74f3343c6a9"
      },
      "outputs": [
        {
          "output_type": "display_data",
          "data": {
            "text/plain": [
              "<Figure size 1000x600 with 1 Axes>"
            ],
            "image/png": "[encoded data removed]"
          },
          "metadata": {}
        }
      ],
      "source": [
        " # Plot feature importance\n",
        "plt.figure(figsize=(10, 6))\n",
        "plt.barh(range(len(feature_importance)), feature_importance, align='center')\n",
        "plt.yticks(range(len(X_train.columns)), X_train.columns)\n",
        "plt.xlabel('Feature Importance')\n",
        "plt.ylabel('Feature')\n",
        "plt.title('Feature Importance for the Final Model')\n",
        "plt.show()"
      ]
    },
    {
      "cell_type": "code",
      "execution_count": 83,
      "metadata": {
        "id": "dC9gOiSwndFJ",
        "colab": {
          "base_uri": "https://localhost:8080/",
          "height": 564
        },
        "outputId": "796b1156-3a3e-4a8b-d7ac-1d7c21cbaadf"
      },
      "outputs": [
        {
          "output_type": "display_data",
          "data": {
            "text/plain": [
              "<Figure size 800x600 with 1 Axes>"
            ],
            "image/png": "[encoded data removed]"
          },
          "metadata": {}
        }
      ],
      "source": [
        "# 24.2. ROC Curve for the Final Model\n",
        "fpr, tpr, thresholds = roc_curve(y_test, y_prob)\n",
        "plt.figure(figsize=(8, 6))\n",
        "plt.plot(fpr, tpr, label='ROC Curve (area = %0.2f)' % roc_auc)\n",
        "plt.plot([0, 1], [0, 1], 'k--')\n",
        "plt.xlim([0.0, 1.0])\n",
        "plt.ylim([0.0, 1.05])\n",
        "plt.xlabel('False Positive Rate')\n",
        "plt.ylabel('True Positive Rate')\n",
        "plt.title('Receiver Operating Characteristic (ROC) Curve for the Final Model')\n",
        "plt.legend(loc='lower right')\n",
        "plt.show()"
      ]
    },
    {
      "cell_type": "code",
      "execution_count": 84,
      "metadata": {
        "id": "i_i4kh8NndFK",
        "colab": {
          "base_uri": "https://localhost:8080/"
        },
        "outputId": "f350744a-4720-43ba-96f2-907c4f318808"
      },
      "outputs": [
        {
          "output_type": "execute_result",
          "data": {
            "text/plain": [
              "['final_model.pkl']"
            ]
          },
          "metadata": {},
          "execution_count": 84
        }
      ],
      "source": [
        "import joblib\n",
        "\n",
        "# Save the final model to a file\n",
        "joblib.dump(final_model, 'final_model.pkl')\n"
      ]
    },
    {
      "cell_type": "code",
      "execution_count": 85,
      "metadata": {
        "id": "QPy2SwKFndFK"
      },
      "outputs": [],
      "source": [
        "import joblib\n",
        "\n",
        "# Load the saved model and preprocessing steps\n",
        "final_model = joblib.load('final_model.pkl')\n"
      ]
    },
    {
      "cell_type": "code",
      "source": [],
      "metadata": {
        "id": "du5LtZqhpgzH"
      },
      "execution_count": null,
      "outputs": []
    }
  ],
  "metadata": {
    "colab": {
      "provenance": []
    },
    "kernelspec": {
      "display_name": "Python 3 (ipykernel)",
      "language": "python",
      "name": "python3"
    },
    "language_info": {
      "codemirror_mode": {
        "name": "ipython",
        "version": 3
      },
      "file_extension": ".py",
      "mimetype": "text/x-python",
      "name": "python",
      "nbconvert_exporter": "python",
      "pygments_lexer": "ipython3",
      "version": "3.11.1"
    }
  },
  "nbformat": 4,
  "nbformat_minor": 0
}